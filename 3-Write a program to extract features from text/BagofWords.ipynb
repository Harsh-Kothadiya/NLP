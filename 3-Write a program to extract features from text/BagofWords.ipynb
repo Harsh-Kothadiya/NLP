{
 "cells": [
  {
   "cell_type": "code",
   "execution_count": 18,
   "metadata": {
    "colab": {},
    "colab_type": "code",
    "id": "UHvhSnRedjhM",
    "scrolled": true
   },
   "outputs": [],
   "source": [
    "#3-Write a program to extract features from text "
   ]
  },
  {
   "cell_type": "code",
   "execution_count": 19,
   "metadata": {
    "colab": {},
    "colab_type": "code",
    "id": "u5PdY09-B4Y-"
   },
   "outputs": [],
   "source": [
    "import numpy as np\n",
    "import re\n",
    "\n",
    "'''The first function we will implement is to extract the words from a document using regular expressions.\n",
    " As we do so, we will be converting all words to lower case and exclude our stop words.'''\n",
    "\n",
    "def tokenize_sentences(sentences):\n",
    "    words = []\n",
    "    for sentence in sentences:\n",
    "        w = extract_words(sentence)\n",
    "        words.extend(w)\n",
    "        \n",
    "    words = sorted(list(set(words)))\n",
    "    return words"
   ]
  },
  {
   "cell_type": "code",
   "execution_count": 20,
   "metadata": {
    "colab": {},
    "colab_type": "code",
    "id": "OwK13TqNB611"
   },
   "outputs": [],
   "source": [
    "'''Next, we implement our tokenize_sentences function. This function builds our vocabulary by looping through\n",
    " all our documents (sentences), extracting the words from each, removing duplicates using the set function and \n",
    " returning a sorted list of words.'''\n",
    "\n",
    "def extract_words(sentence):\n",
    "    ignore_words = ['a']\n",
    "    words = re.sub(\"[^w]\", \" \",  sentence).split() #nltk.word_tokenize(sentence)\n",
    "    words_cleaned = [w.lower() for w in words if w not in ignore_words]\n",
    "    return words_cleaned   "
   ]
  },
  {
   "cell_type": "code",
   "execution_count": 21,
   "metadata": {
    "colab": {},
    "colab_type": "code",
    "id": "bKrBOqp8B8Dl"
   },
   "outputs": [],
   "source": [
    "def bagofwords(sentence, words):\n",
    "    sentence_words = extract_words(sentence)\n",
    "    # frequency word count\n",
    "    bag = np.zeros(len(words))\n",
    "    for sw in sentence_words:\n",
    "        for i,word in enumerate(words):\n",
    "            if word == sw: \n",
    "                bag[i] += 1\n",
    "                \n",
    "    return np.array(bag)"
   ]
  },
  {
   "cell_type": "code",
   "execution_count": 22,
   "metadata": {
    "colab": {},
    "colab_type": "code",
    "id": "8S8NULCRB-F1"
   },
   "outputs": [],
   "source": [
    "'''Our last function is the implementation of the bag of words model. This function takes an input of a sentence \n",
    "and words (our vocabulary). It then extracts the words from the input sentence using the previously defined function. \n",
    "It creates a vector of zeros using numpy zeros function with a length of the number of words in our vocabulary.'''\n",
    "\n",
    "\n",
    "sentences = [\"Machine learning is great\",\"Natural Language Processing is a complex field\",\n",
    "\"Natural Language Processing is used in machine learning\"]"
   ]
  },
  {
   "cell_type": "code",
   "execution_count": 23,
   "metadata": {
    "colab": {
     "base_uri": "https://localhost:8080/",
     "height": 68
    },
    "colab_type": "code",
    "id": "fuR2rb3OCDB1",
    "outputId": "c969d717-c231-4aa8-fc0a-33a5b299cb29"
   },
   "outputs": [
    {
     "data": {
      "text/plain": [
       "array([[0, 0, 1, 0, 1, 0, 1, 1, 0, 0, 0],\n",
       "       [1, 1, 0, 0, 1, 1, 0, 0, 1, 1, 0],\n",
       "       [0, 0, 0, 1, 1, 1, 1, 1, 1, 1, 1]], dtype=int64)"
      ]
     },
     "execution_count": 23,
     "metadata": {},
     "output_type": "execute_result"
    }
   ],
   "source": [
    "vocabulary = tokenize_sentences(sentences)\n",
    "bagofwords(\"Machine learning is great\", vocabulary)\n",
    "\n",
    "from sklearn.feature_extraction.text import CountVectorizer\n",
    "\n",
    "vectorizer = CountVectorizer(analyzer = \"word\", tokenizer = None, preprocessor = None, stop_words = None, max_features = 5000) \n",
    "\n",
    "train_data_features = vectorizer.fit_transform(sentences)\n",
    "\n",
    "vectorizer.transform([\"Machine learning is great\",\"Natural Language Processing is a complex field\",\n",
    "\"Natural Language Processing is used in machine learning\"]).toarray()\n"
   ]
  }
 ],
 "metadata": {
  "colab": {
   "collapsed_sections": [],
   "name": "BagofWords.ipynb",
   "provenance": []
  },
  "kernelspec": {
   "display_name": "Python 3",
   "language": "python",
   "name": "python3"
  },
  "language_info": {
   "codemirror_mode": {
    "name": "ipython",
    "version": 3
   },
   "file_extension": ".py",
   "mimetype": "text/x-python",
   "name": "python",
   "nbconvert_exporter": "python",
   "pygments_lexer": "ipython3",
   "version": "3.8.8"
  }
 },
 "nbformat": 4,
 "nbformat_minor": 1
}
