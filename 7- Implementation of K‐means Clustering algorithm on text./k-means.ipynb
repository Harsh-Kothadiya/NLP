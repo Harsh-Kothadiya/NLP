{
 "cells": [
  {
   "cell_type": "markdown",
   "id": "6a28cddd",
   "metadata": {},
   "source": [
    "# 7-Implementation of K‐means Clustering algorithm on text. "
   ]
  },
  {
   "cell_type": "code",
   "execution_count": 1,
   "id": "891925a4",
   "metadata": {},
   "outputs": [
    {
     "name": "stdout",
     "output_type": "stream",
     "text": [
      "Cluster 0: apps google funny camera extensions useful chrome driving face facebook\n",
      "\n",
      "Cluster 1: world cup young champions crowned french men qatar fifa played\n",
      "\n",
      "\n",
      "[0]\n",
      "[1]\n"
     ]
    }
   ],
   "source": [
    "from sklearn.feature_extraction.text import TfidfVectorizer\n",
    "from sklearn.cluster import KMeans\n",
    "\n",
    "documents = [\"the young french men crowned world champions\",\n",
    "             \"Google Translate app is getting more intelligent everyday\",\n",
    "             \"Facebook face recognition is driving me crazy\",\n",
    "             \"who is going to win the Golden Ball title this year\",\n",
    "             \"these camera apps are funny\",\n",
    "             \"Croacian team made a brilliant world cup campaign reaching the final match\",\n",
    "             \"Google Chrome extensions are useful.\",\n",
    "             \"Social Media apps leveraging AI incredibly\",\n",
    "             \"Qatar 2022 FIFA world cup is played in winter\"]\n",
    " \n",
    " \n",
    "vectorizer = TfidfVectorizer(stop_words = 'english')\n",
    "data = vectorizer.fit_transform(documents)\n",
    " \n",
    "true_k = 2\n",
    "clustering_model = KMeans(n_clusters = true_k, \n",
    "                          init = 'k-means++',\n",
    "                          max_iter = 300, n_init = 10)\n",
    "clustering_model.fit(data)\n",
    "\n",
    "## terms per cluster\n",
    "\n",
    "sorted_centroids = clustering_model.cluster_centers_.argsort()[:, ::-1]\n",
    "terms = vectorizer.get_feature_names()\n",
    "\n",
    "for i in range(true_k):\n",
    "        print(\"Cluster %d:\" % i, end='')\n",
    "        for ind in sorted_centroids[i, :10]:\n",
    "            print(' %s' % terms[ind], end='')\n",
    "        print()\n",
    "        print()\n",
    " \n",
    "print()\n",
    "\n",
    "\n",
    "# Cluster 0: apps google funny camera extensions useful chrome driving face facebook\n",
    "#\n",
    "# Cluster 1: world cup young champions crowned french men qatar fifa played\n",
    "\n",
    "## predicting the cluster of new docs\n",
    "\n",
    "new_doc = [\"how to install Chrome\"]\n",
    "Y = vectorizer.transform(new_doc)\n",
    "prediction = clustering_model.predict(Y)\n",
    "print(prediction)\n",
    "# [0]\n",
    "\n",
    "new_doc = [\"UCL Final match is played in Madrid this year\"]\n",
    "Y = vectorizer.transform(new_doc)\n",
    "prediction = clustering_model.predict(Y)\n",
    "print(prediction)\n",
    "# [1]\n"
   ]
  }
 ],
 "metadata": {
  "kernelspec": {
   "display_name": "Python 3",
   "language": "python",
   "name": "python3"
  },
  "language_info": {
   "codemirror_mode": {
    "name": "ipython",
    "version": 3
   },
   "file_extension": ".py",
   "mimetype": "text/x-python",
   "name": "python",
   "nbconvert_exporter": "python",
   "pygments_lexer": "ipython3",
   "version": "3.8.8"
  }
 },
 "nbformat": 4,
 "nbformat_minor": 5
}
